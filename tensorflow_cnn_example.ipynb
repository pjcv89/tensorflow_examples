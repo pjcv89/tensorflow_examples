{
 "cells": [
  {
   "cell_type": "markdown",
   "metadata": {},
   "source": [
    "# Convolutional Neural Networks with Tensorflow"
   ]
  },
  {
   "cell_type": "markdown",
   "metadata": {},
   "source": [
    "## Sample work by Pablo Campos Viana"
   ]
  },
  {
   "cell_type": "markdown",
   "metadata": {},
   "source": [
    "This example is using the MNIST database of handwritten digits (http://yann.lecun.com/exdb/mnist/). This demonstration is derived from the examples of Tensorflow that can be found when installing it and from Aymeric Damien's tutorials that can be found at https://github.com/aymericdamien/ "
   ]
  },
  {
   "cell_type": "code",
   "execution_count": 5,
   "metadata": {
    "collapsed": false
   },
   "outputs": [],
   "source": [
    "! cd data"
   ]
  },
  {
   "cell_type": "code",
   "execution_count": 7,
   "metadata": {
    "collapsed": false
   },
   "outputs": [
    {
     "name": "stdout",
     "output_type": "stream",
     "text": [
      "Successfully downloaded train-images-idx3-ubyte.gz 9912422 bytes.\n",
      "Extracting train-images-idx3-ubyte.gz\n",
      "Successfully downloaded train-labels-idx1-ubyte.gz 28881 bytes.\n",
      "Extracting train-labels-idx1-ubyte.gz\n",
      "Successfully downloaded t10k-images-idx3-ubyte.gz 1648877 bytes.\n",
      "Extracting t10k-images-idx3-ubyte.gz\n",
      "Successfully downloaded t10k-labels-idx1-ubyte.gz 4542 bytes.\n",
      "Extracting t10k-labels-idx1-ubyte.gz\n"
     ]
    }
   ],
   "source": [
    "import tensorflow as tf\n",
    "\n",
    "# Import MNIST data\n",
    "from tensorflow.examples.tutorials.mnist import input_data\n",
    "mnist = input_data.read_data_sets(\"\", one_hot=True)"
   ]
  },
  {
   "cell_type": "code",
   "execution_count": 8,
   "metadata": {
    "collapsed": true
   },
   "outputs": [],
   "source": [
    "# Parameters\n",
    "learning_rate = 0.001\n",
    "training_iters = 200000\n",
    "batch_size = 128\n",
    "display_step = 10\n",
    "\n",
    "# Network Parameters\n",
    "n_input = 784 # MNIST data input (img shape: 28*28)\n",
    "n_classes = 10 # MNIST total classes (0-9 digits)\n",
    "dropout = 0.75 # Dropout, probability to keep units\n",
    "\n",
    "# tf Graph input\n",
    "x = tf.placeholder(tf.float32, [None, n_input])\n",
    "y = tf.placeholder(tf.float32, [None, n_classes])\n",
    "keep_prob = tf.placeholder(tf.float32) #dropout (keep probability)"
   ]
  },
  {
   "cell_type": "code",
   "execution_count": 9,
   "metadata": {
    "collapsed": true
   },
   "outputs": [],
   "source": [
    "# Create some wrappers for simplicity\n",
    "def conv2d(x, W, b, strides=1):\n",
    "    # Conv2D wrapper, with bias and relu activation\n",
    "    x = tf.nn.conv2d(x, W, strides=[1, strides, strides, 1], padding='SAME')\n",
    "    x = tf.nn.bias_add(x, b)\n",
    "    return tf.nn.relu(x)\n",
    "\n",
    "\n",
    "def maxpool2d(x, k=2):\n",
    "    # MaxPool2D wrapper\n",
    "    return tf.nn.max_pool(x, ksize=[1, k, k, 1], strides=[1, k, k, 1],\n",
    "                          padding='SAME')"
   ]
  },
  {
   "cell_type": "markdown",
   "metadata": {},
   "source": [
    "### Network architecture"
   ]
  },
  {
   "cell_type": "code",
   "execution_count": 10,
   "metadata": {
    "collapsed": true
   },
   "outputs": [],
   "source": [
    "def conv_net(x, weights, biases, dropout):\n",
    "    # Reshape input picture\n",
    "    x = tf.reshape(x, shape=[-1, 28, 28, 1])\n",
    "\n",
    "    # First Convolution Layer\n",
    "    conv1 = conv2d(x, weights['wc1'], biases['bc1'])\n",
    "    # Max Pooling (down-sampling)\n",
    "    conv1 = maxpool2d(conv1, k=2)\n",
    "\n",
    "    # Second Convolution Layer\n",
    "    conv2 = conv2d(conv1, weights['wc2'], biases['bc2'])\n",
    "    # Max Pooling (down-sampling)\n",
    "    conv2 = maxpool2d(conv2, k=2)\n",
    "\n",
    "    # Fully connected layer\n",
    "    # Reshape conv2 output to fit fully connected layer input\n",
    "    fc1 = tf.reshape(conv2, [-1, weights['wd1'].get_shape().as_list()[0]])\n",
    "    fc1 = tf.add(tf.matmul(fc1, weights['wd1']), biases['bd1'])\n",
    "    fc1 = tf.nn.relu(fc1)\n",
    "    # Apply Dropout regularization\n",
    "    fc1 = tf.nn.dropout(fc1, dropout)\n",
    "\n",
    "    # Output, class prediction\n",
    "    out = tf.add(tf.matmul(fc1, weights['out']), biases['out'])\n",
    "    return out"
   ]
  },
  {
   "cell_type": "code",
   "execution_count": 11,
   "metadata": {
    "collapsed": true
   },
   "outputs": [],
   "source": [
    "# Store layers weight & bias\n",
    "weights = {\n",
    "    # 5x5 conv, 1 input, 32 outputs\n",
    "    'wc1': tf.Variable(tf.random_normal([5, 5, 1, 32])),\n",
    "    # 5x5 conv, 32 inputs, 64 outputs\n",
    "    'wc2': tf.Variable(tf.random_normal([5, 5, 32, 64])),\n",
    "    # fully connected, 7*7*64 inputs, 1024 outputs\n",
    "    'wd1': tf.Variable(tf.random_normal([7*7*64, 1024])),\n",
    "    # 1024 inputs, 10 outputs (class prediction)\n",
    "    'out': tf.Variable(tf.random_normal([1024, n_classes]))\n",
    "}\n",
    "\n",
    "biases = {\n",
    "    'bc1': tf.Variable(tf.random_normal([32])),\n",
    "    'bc2': tf.Variable(tf.random_normal([64])),\n",
    "    'bd1': tf.Variable(tf.random_normal([1024])),\n",
    "    'out': tf.Variable(tf.random_normal([n_classes]))\n",
    "}"
   ]
  },
  {
   "cell_type": "code",
   "execution_count": 13,
   "metadata": {
    "collapsed": false
   },
   "outputs": [],
   "source": [
    "# Construct model\n",
    "pred = conv_net(x, weights, biases, keep_prob)\n",
    "\n",
    "# Define loss and optimizer\n",
    "cost = tf.reduce_mean(tf.nn.softmax_cross_entropy_with_logits(pred, y))\n",
    "optimizer = tf.train.AdamOptimizer(learning_rate=learning_rate).minimize(cost)\n",
    "\n",
    "# Evaluate model\n",
    "correct_pred = tf.equal(tf.argmax(pred, 1), tf.argmax(y, 1))\n",
    "accuracy = tf.reduce_mean(tf.cast(correct_pred, tf.float32))\n",
    "\n",
    "# Initializing the variables\n",
    "init = tf.global_variables_initializer()"
   ]
  },
  {
   "cell_type": "code",
   "execution_count": 14,
   "metadata": {
    "collapsed": false
   },
   "outputs": [
    {
     "name": "stdout",
     "output_type": "stream",
     "text": [
      "Iter 1280, Minibatch Loss= 19659.906250, Training Accuracy= 0.25781\n",
      "Iter 2560, Minibatch Loss= 7872.932129, Training Accuracy= 0.53125\n",
      "Iter 3840, Minibatch Loss= 6089.936523, Training Accuracy= 0.70312\n",
      "Iter 5120, Minibatch Loss= 3710.842773, Training Accuracy= 0.82812\n",
      "Iter 6400, Minibatch Loss= 2352.575928, Training Accuracy= 0.83594\n",
      "Iter 7680, Minibatch Loss= 6014.254395, Training Accuracy= 0.72656\n",
      "Iter 8960, Minibatch Loss= 2093.919434, Training Accuracy= 0.77344\n",
      "Iter 10240, Minibatch Loss= 2030.989868, Training Accuracy= 0.87500\n",
      "Iter 11520, Minibatch Loss= 1257.937622, Training Accuracy= 0.92188\n",
      "Iter 12800, Minibatch Loss= 1987.541138, Training Accuracy= 0.89844\n",
      "Iter 14080, Minibatch Loss= 1596.839844, Training Accuracy= 0.88281\n",
      "Iter 15360, Minibatch Loss= 1605.721802, Training Accuracy= 0.90625\n",
      "Iter 16640, Minibatch Loss= 1518.813110, Training Accuracy= 0.89062\n",
      "Iter 17920, Minibatch Loss= 1038.490479, Training Accuracy= 0.93750\n",
      "Iter 19200, Minibatch Loss= 882.786865, Training Accuracy= 0.91406\n",
      "Iter 20480, Minibatch Loss= 542.091309, Training Accuracy= 0.96094\n",
      "Iter 21760, Minibatch Loss= 2591.201172, Training Accuracy= 0.82812\n",
      "Iter 23040, Minibatch Loss= 933.189575, Training Accuracy= 0.96094\n",
      "Iter 24320, Minibatch Loss= 909.973267, Training Accuracy= 0.92969\n",
      "Iter 25600, Minibatch Loss= 1027.693481, Training Accuracy= 0.89844\n",
      "Iter 26880, Minibatch Loss= 1227.344849, Training Accuracy= 0.92188\n",
      "Iter 28160, Minibatch Loss= 635.024170, Training Accuracy= 0.92188\n",
      "Iter 29440, Minibatch Loss= 1146.181030, Training Accuracy= 0.90625\n",
      "Iter 30720, Minibatch Loss= 813.321777, Training Accuracy= 0.92969\n",
      "Iter 32000, Minibatch Loss= 1040.343262, Training Accuracy= 0.93750\n",
      "Iter 33280, Minibatch Loss= 1147.544678, Training Accuracy= 0.89844\n",
      "Iter 34560, Minibatch Loss= 125.028793, Training Accuracy= 0.96094\n",
      "Iter 35840, Minibatch Loss= 512.827759, Training Accuracy= 0.95312\n",
      "Iter 37120, Minibatch Loss= 690.214966, Training Accuracy= 0.94531\n",
      "Iter 38400, Minibatch Loss= 38.540207, Training Accuracy= 0.98438\n",
      "Iter 39680, Minibatch Loss= 259.785278, Training Accuracy= 0.97656\n",
      "Iter 40960, Minibatch Loss= 999.651489, Training Accuracy= 0.89062\n",
      "Iter 42240, Minibatch Loss= 626.064331, Training Accuracy= 0.93750\n",
      "Iter 43520, Minibatch Loss= 508.084625, Training Accuracy= 0.96875\n",
      "Iter 44800, Minibatch Loss= 601.267090, Training Accuracy= 0.92969\n",
      "Iter 46080, Minibatch Loss= 237.113251, Training Accuracy= 0.97656\n",
      "Iter 47360, Minibatch Loss= 1188.324951, Training Accuracy= 0.93750\n",
      "Iter 48640, Minibatch Loss= 1263.459229, Training Accuracy= 0.92969\n",
      "Iter 49920, Minibatch Loss= 653.522095, Training Accuracy= 0.93750\n",
      "Iter 51200, Minibatch Loss= 118.101196, Training Accuracy= 0.97656\n",
      "Iter 52480, Minibatch Loss= 167.937317, Training Accuracy= 0.98438\n",
      "Iter 53760, Minibatch Loss= 166.924927, Training Accuracy= 0.96875\n",
      "Iter 55040, Minibatch Loss= 310.606293, Training Accuracy= 0.94531\n",
      "Iter 56320, Minibatch Loss= 519.846497, Training Accuracy= 0.96094\n",
      "Iter 57600, Minibatch Loss= 335.139160, Training Accuracy= 0.97656\n",
      "Iter 58880, Minibatch Loss= 214.883484, Training Accuracy= 0.96094\n",
      "Iter 60160, Minibatch Loss= 765.156494, Training Accuracy= 0.95312\n",
      "Iter 61440, Minibatch Loss= 1010.592224, Training Accuracy= 0.93750\n",
      "Iter 62720, Minibatch Loss= 391.008789, Training Accuracy= 0.95312\n",
      "Iter 64000, Minibatch Loss= 195.013123, Training Accuracy= 0.96875\n",
      "Iter 65280, Minibatch Loss= 391.714050, Training Accuracy= 0.97656\n",
      "Iter 66560, Minibatch Loss= 609.585815, Training Accuracy= 0.96094\n",
      "Iter 67840, Minibatch Loss= 316.704163, Training Accuracy= 0.97656\n",
      "Iter 69120, Minibatch Loss= 728.639404, Training Accuracy= 0.92969\n",
      "Iter 70400, Minibatch Loss= 316.025085, Training Accuracy= 0.95312\n",
      "Iter 71680, Minibatch Loss= 542.895752, Training Accuracy= 0.93750\n",
      "Iter 72960, Minibatch Loss= 86.750458, Training Accuracy= 0.99219\n",
      "Iter 74240, Minibatch Loss= 697.138550, Training Accuracy= 0.92188\n",
      "Iter 75520, Minibatch Loss= 828.534790, Training Accuracy= 0.92188\n",
      "Iter 76800, Minibatch Loss= 369.667847, Training Accuracy= 0.95312\n",
      "Iter 78080, Minibatch Loss= 394.590363, Training Accuracy= 0.96875\n",
      "Iter 79360, Minibatch Loss= 220.960068, Training Accuracy= 0.96875\n",
      "Iter 80640, Minibatch Loss= 417.024902, Training Accuracy= 0.93750\n",
      "Iter 81920, Minibatch Loss= 147.438812, Training Accuracy= 0.96875\n",
      "Iter 83200, Minibatch Loss= 759.396057, Training Accuracy= 0.95312\n",
      "Iter 84480, Minibatch Loss= 210.438248, Training Accuracy= 0.95312\n",
      "Iter 85760, Minibatch Loss= 781.527222, Training Accuracy= 0.91406\n",
      "Iter 87040, Minibatch Loss= 509.471436, Training Accuracy= 0.95312\n",
      "Iter 88320, Minibatch Loss= 195.331421, Training Accuracy= 0.96875\n",
      "Iter 89600, Minibatch Loss= 157.947159, Training Accuracy= 0.97656\n",
      "Iter 90880, Minibatch Loss= 852.109497, Training Accuracy= 0.92188\n",
      "Iter 92160, Minibatch Loss= 206.122299, Training Accuracy= 0.94531\n",
      "Iter 93440, Minibatch Loss= 83.517441, Training Accuracy= 0.98438\n",
      "Iter 94720, Minibatch Loss= 86.553696, Training Accuracy= 0.98438\n",
      "Iter 96000, Minibatch Loss= 286.790955, Training Accuracy= 0.96094\n",
      "Iter 97280, Minibatch Loss= 241.843536, Training Accuracy= 0.94531\n",
      "Iter 98560, Minibatch Loss= 365.180908, Training Accuracy= 0.97656\n",
      "Iter 99840, Minibatch Loss= 378.314911, Training Accuracy= 0.96875\n",
      "Iter 101120, Minibatch Loss= 408.549011, Training Accuracy= 0.94531\n",
      "Iter 102400, Minibatch Loss= 52.893311, Training Accuracy= 0.97656\n",
      "Iter 103680, Minibatch Loss= 301.427979, Training Accuracy= 0.95312\n",
      "Iter 104960, Minibatch Loss= 318.221252, Training Accuracy= 0.96094\n",
      "Iter 106240, Minibatch Loss= 352.163025, Training Accuracy= 0.94531\n",
      "Iter 107520, Minibatch Loss= 186.303864, Training Accuracy= 0.97656\n",
      "Iter 108800, Minibatch Loss= 239.871109, Training Accuracy= 0.96875\n",
      "Iter 110080, Minibatch Loss= 495.556610, Training Accuracy= 0.93750\n",
      "Iter 111360, Minibatch Loss= 54.090820, Training Accuracy= 0.99219\n",
      "Iter 112640, Minibatch Loss= 212.634567, Training Accuracy= 0.96875\n",
      "Iter 113920, Minibatch Loss= 109.544785, Training Accuracy= 0.98438\n",
      "Iter 115200, Minibatch Loss= 136.269180, Training Accuracy= 0.96094\n",
      "Iter 116480, Minibatch Loss= 204.080170, Training Accuracy= 0.95312\n",
      "Iter 117760, Minibatch Loss= 1.161987, Training Accuracy= 0.99219\n",
      "Iter 119040, Minibatch Loss= 106.981903, Training Accuracy= 0.97656\n",
      "Iter 120320, Minibatch Loss= 109.156906, Training Accuracy= 0.97656\n",
      "Iter 121600, Minibatch Loss= 409.881775, Training Accuracy= 0.93750\n",
      "Iter 122880, Minibatch Loss= 46.368271, Training Accuracy= 0.97656\n",
      "Iter 124160, Minibatch Loss= 163.438828, Training Accuracy= 0.99219\n",
      "Iter 125440, Minibatch Loss= 430.983673, Training Accuracy= 0.94531\n",
      "Iter 126720, Minibatch Loss= 121.248878, Training Accuracy= 0.97656\n",
      "Iter 128000, Minibatch Loss= 104.230545, Training Accuracy= 0.98438\n",
      "Iter 129280, Minibatch Loss= 25.731415, Training Accuracy= 0.96875\n",
      "Iter 130560, Minibatch Loss= 130.849197, Training Accuracy= 0.97656\n",
      "Iter 131840, Minibatch Loss= 153.841370, Training Accuracy= 0.97656\n",
      "Iter 133120, Minibatch Loss= 59.410667, Training Accuracy= 0.98438\n",
      "Iter 134400, Minibatch Loss= 189.510834, Training Accuracy= 0.95312\n",
      "Iter 135680, Minibatch Loss= 182.933884, Training Accuracy= 0.96094\n",
      "Iter 136960, Minibatch Loss= 149.531876, Training Accuracy= 0.98438\n",
      "Iter 138240, Minibatch Loss= 92.766869, Training Accuracy= 0.97656\n",
      "Iter 139520, Minibatch Loss= 108.457199, Training Accuracy= 0.97656\n",
      "Iter 140800, Minibatch Loss= 227.469620, Training Accuracy= 0.97656\n",
      "Iter 142080, Minibatch Loss= 204.483154, Training Accuracy= 0.97656\n",
      "Iter 143360, Minibatch Loss= 269.496277, Training Accuracy= 0.96875\n",
      "Iter 144640, Minibatch Loss= 170.945084, Training Accuracy= 0.96094\n",
      "Iter 145920, Minibatch Loss= 30.018051, Training Accuracy= 0.96875\n",
      "Iter 147200, Minibatch Loss= 52.700684, Training Accuracy= 0.99219\n",
      "Iter 148480, Minibatch Loss= 93.326988, Training Accuracy= 0.97656\n",
      "Iter 149760, Minibatch Loss= 437.693695, Training Accuracy= 0.95312\n",
      "Iter 151040, Minibatch Loss= 144.980988, Training Accuracy= 0.95312\n",
      "Iter 152320, Minibatch Loss= 0.000000, Training Accuracy= 1.00000\n",
      "Iter 153600, Minibatch Loss= 183.550995, Training Accuracy= 0.97656\n",
      "Iter 154880, Minibatch Loss= 76.877609, Training Accuracy= 0.98438\n",
      "Iter 156160, Minibatch Loss= 114.720551, Training Accuracy= 0.98438\n",
      "Iter 157440, Minibatch Loss= 412.205017, Training Accuracy= 0.96094\n",
      "Iter 158720, Minibatch Loss= 247.359360, Training Accuracy= 0.95312\n",
      "Iter 160000, Minibatch Loss= 151.839386, Training Accuracy= 0.96094\n",
      "Iter 161280, Minibatch Loss= 175.176544, Training Accuracy= 0.98438\n",
      "Iter 162560, Minibatch Loss= 48.418709, Training Accuracy= 0.98438\n",
      "Iter 163840, Minibatch Loss= 95.413254, Training Accuracy= 0.96875\n",
      "Iter 165120, Minibatch Loss= 39.919876, Training Accuracy= 0.97656\n",
      "Iter 166400, Minibatch Loss= 116.702202, Training Accuracy= 0.97656\n",
      "Iter 167680, Minibatch Loss= 152.483704, Training Accuracy= 0.98438\n",
      "Iter 168960, Minibatch Loss= 157.882660, Training Accuracy= 0.96094\n",
      "Iter 170240, Minibatch Loss= 70.510757, Training Accuracy= 0.99219\n",
      "Iter 171520, Minibatch Loss= 354.580933, Training Accuracy= 0.96094\n",
      "Iter 172800, Minibatch Loss= 149.318756, Training Accuracy= 0.98438\n",
      "Iter 174080, Minibatch Loss= 102.215179, Training Accuracy= 0.96094\n",
      "Iter 175360, Minibatch Loss= 0.000000, Training Accuracy= 1.00000\n",
      "Iter 176640, Minibatch Loss= 66.344116, Training Accuracy= 0.98438\n",
      "Iter 177920, Minibatch Loss= 0.000000, Training Accuracy= 1.00000\n",
      "Iter 179200, Minibatch Loss= 40.401817, Training Accuracy= 0.99219\n",
      "Iter 180480, Minibatch Loss= 74.234261, Training Accuracy= 0.98438\n",
      "Iter 181760, Minibatch Loss= 138.350800, Training Accuracy= 0.97656\n",
      "Iter 183040, Minibatch Loss= 205.569519, Training Accuracy= 0.93750\n",
      "Iter 184320, Minibatch Loss= 112.293251, Training Accuracy= 0.96875\n",
      "Iter 185600, Minibatch Loss= 140.596344, Training Accuracy= 0.93750\n",
      "Iter 186880, Minibatch Loss= 82.755554, Training Accuracy= 0.98438\n",
      "Iter 188160, Minibatch Loss= 0.000000, Training Accuracy= 1.00000\n",
      "Iter 189440, Minibatch Loss= 29.723648, Training Accuracy= 0.98438\n",
      "Iter 190720, Minibatch Loss= 470.336182, Training Accuracy= 0.94531\n",
      "Iter 192000, Minibatch Loss= 100.726578, Training Accuracy= 0.98438\n",
      "Iter 193280, Minibatch Loss= 167.712082, Training Accuracy= 0.97656\n",
      "Iter 194560, Minibatch Loss= 64.931618, Training Accuracy= 0.98438\n",
      "Iter 195840, Minibatch Loss= 116.023415, Training Accuracy= 0.98438\n",
      "Iter 197120, Minibatch Loss= 51.440750, Training Accuracy= 0.98438\n",
      "Iter 198400, Minibatch Loss= 23.029709, Training Accuracy= 0.99219\n",
      "Iter 199680, Minibatch Loss= 48.756477, Training Accuracy= 0.98438\n",
      "Optimization Finished!\n",
      "Testing Accuracy: 0.976562\n"
     ]
    }
   ],
   "source": [
    "# Launch the graph\n",
    "with tf.Session() as sess:\n",
    "    sess.run(init)\n",
    "    step = 1\n",
    "    # Keep training until reach max iterations\n",
    "    while step * batch_size < training_iters:\n",
    "        batch_x, batch_y = mnist.train.next_batch(batch_size)\n",
    "        # Run optimization op (backprop)\n",
    "        sess.run(optimizer, feed_dict={x: batch_x, y: batch_y,\n",
    "                                       keep_prob: dropout})\n",
    "        if step % display_step == 0:\n",
    "            # Calculate batch loss and accuracy\n",
    "            loss, acc = sess.run([cost, accuracy], feed_dict={x: batch_x,\n",
    "                                                              y: batch_y,\n",
    "                                                              keep_prob: 1.})\n",
    "            print \"Iter \" + str(step*batch_size) + \", Minibatch Loss= \" + \\\n",
    "                  \"{:.6f}\".format(loss) + \", Training Accuracy= \" + \\\n",
    "                  \"{:.5f}\".format(acc)\n",
    "        step += 1\n",
    "    print \"Optimization Finished!\"\n",
    "\n",
    "    # Calculate accuracy for 256 mnist test images\n",
    "    print \"Testing Accuracy:\", \\\n",
    "        sess.run(accuracy, feed_dict={x: mnist.test.images[:256],\n",
    "                                      y: mnist.test.labels[:256],\n",
    "                                      keep_prob: 1.})"
   ]
  },
  {
   "cell_type": "code",
   "execution_count": null,
   "metadata": {
    "collapsed": true
   },
   "outputs": [],
   "source": []
  }
 ],
 "metadata": {
  "kernelspec": {
   "display_name": "Python 2",
   "language": "python",
   "name": "python2"
  },
  "language_info": {
   "codemirror_mode": {
    "name": "ipython",
    "version": 2
   },
   "file_extension": ".py",
   "mimetype": "text/x-python",
   "name": "python",
   "nbconvert_exporter": "python",
   "pygments_lexer": "ipython2",
   "version": "2.7.10"
  }
 },
 "nbformat": 4,
 "nbformat_minor": 0
}
